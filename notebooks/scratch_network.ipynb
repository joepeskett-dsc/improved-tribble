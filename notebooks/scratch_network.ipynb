{
 "cells": [
  {
   "cell_type": "markdown",
   "metadata": {},
   "source": [
    "# A Simple Network from Scratch: Julia Edition\n",
    "\n",
    "Following a [post from Andrew Trask](https://iamtrask.github.io/2015/07/12/basic-python-network/) showing how to design a network from scratch in python, just using numpy, I figured it would be a useful learning exercise to do the same with Julia. While Julia already has a couple of powerful frameworks for Machine Learning, this is to cement an intuitive understanding of the underlying working of a neural network as well develop an understanding of the core functionalities of Julia.  "
   ]
  },
  {
   "cell_type": "markdown",
   "metadata": {},
   "source": [
    "### Creating Arrays"
   ]
  },
  {
   "cell_type": "code",
   "execution_count": 1,
   "metadata": {},
   "outputs": [
    {
     "name": "stdout",
     "output_type": "stream",
     "text": [
      "(4, 3)\n",
      "(4, 1)\n"
     ]
    }
   ],
   "source": [
    "using LinearAlgebra\n",
    "\n",
    "X = [[0 1 1]; [0 1 1];[1 0 1]; [1 1 1]]\n",
    "y = transpose([0 0 1 1])\n",
    "println(size(X))\n",
    "println(size(y))"
   ]
  },
  {
   "cell_type": "code",
   "execution_count": 2,
   "metadata": {},
   "outputs": [
    {
     "data": {
      "text/plain": [
       "4×3 Array{Int32,2}:\n",
       " 0  1  1\n",
       " 0  1  1\n",
       " 1  0  1\n",
       " 1  1  1"
      ]
     },
     "execution_count": 2,
     "metadata": {},
     "output_type": "execute_result"
    }
   ],
   "source": [
    "X"
   ]
  },
  {
   "cell_type": "code",
   "execution_count": 3,
   "metadata": {},
   "outputs": [
    {
     "data": {
      "text/plain": [
       "4×1 Transpose{Int32,Array{Int32,2}}:\n",
       " 0\n",
       " 0\n",
       " 1\n",
       " 1"
      ]
     },
     "execution_count": 3,
     "metadata": {},
     "output_type": "execute_result"
    }
   ],
   "source": [
    "y"
   ]
  },
  {
   "cell_type": "markdown",
   "metadata": {},
   "source": [
    "As you can see frm the print out, we now have our arrays in the correct format."
   ]
  },
  {
   "cell_type": "markdown",
   "metadata": {},
   "source": [
    "### Defining Functions\n",
    "\n",
    "In the cell below, I'll define a sigmoid function. "
   ]
  },
  {
   "cell_type": "code",
   "execution_count": 28,
   "metadata": {},
   "outputs": [
    {
     "data": {
      "text/plain": [
       "deriv (generic function with 1 method)"
      ]
     },
     "execution_count": 28,
     "metadata": {},
     "output_type": "execute_result"
    }
   ],
   "source": [
    "#function sigmoid(x,deriv = false)\n",
    "#    if deriv == true\n",
    "#        return x*(1-x)\n",
    "#    end\n",
    "#    return 1.0 /(1.0+exp(-x))\n",
    "#end\n",
    "\n",
    "function sigmoid(z)\n",
    "    return 1.0 ./(1.0 .+ exp(.-z))\n",
    "end\n",
    "\n",
    "function deriv(z)\n",
    "    return z .*(1 .- z)\n",
    "end"
   ]
  },
  {
   "cell_type": "markdown",
   "metadata": {},
   "source": [
    "For practise, let's print calculate the value of sigmoid for -1 to 1 and intervals of 0.1 and plot them. "
   ]
  },
  {
   "cell_type": "code",
   "execution_count": 5,
   "metadata": {},
   "outputs": [],
   "source": [
    "val_range = -10:0.5:10\n",
    "full_range = collect(val_range)\n",
    "sigmoid_array = zeros(length(full_range))\n",
    "for (index,x) in enumerate(full_range)\n",
    "    sigmoid_array[index] = sigmoid(x)\n",
    "end"
   ]
  },
  {
   "cell_type": "code",
   "execution_count": 6,
   "metadata": {},
   "outputs": [
    {
     "data": {
      "text/plain": [
       "41-element Array{Float64,1}:\n",
       " 4.5397868702434395e-5 \n",
       " 7.484622751061124e-5  \n",
       " 0.00012339457598623172\n",
       " 0.00020342697805520653\n",
       " 0.0003353501304664781 \n",
       " 0.0005527786369235996 \n",
       " 0.0009110511944006454 \n",
       " 0.0015011822567369917 \n",
       " 0.0024726231566347743 \n",
       " 0.004070137715896128  \n",
       " 0.0066928509242848554 \n",
       " 0.01098694263059318   \n",
       " 0.01798620996209156   \n",
       " ⋮                     \n",
       " 0.9890130573694068    \n",
       " 0.9933071490757153    \n",
       " 0.995929862284104     \n",
       " 0.9975273768433653    \n",
       " 0.998498817743263     \n",
       " 0.9990889488055994    \n",
       " 0.9994472213630764    \n",
       " 0.9996646498695336    \n",
       " 0.9997965730219448    \n",
       " 0.9998766054240137    \n",
       " 0.9999251537724895    \n",
       " 0.9999546021312976    "
      ]
     },
     "execution_count": 6,
     "metadata": {},
     "output_type": "execute_result"
    }
   ],
   "source": [
    "sigmoid_array"
   ]
  },
  {
   "cell_type": "markdown",
   "metadata": {},
   "source": [
    "And below we'll just make a simple plot to check we're getting what we'd expect from our sigmoid function. "
   ]
  },
  {
   "cell_type": "code",
   "execution_count": 7,
   "metadata": {},
   "outputs": [
    {
     "data": {
      "text/html": [
       "    <script type=\"text/javascript\">\n",
       "        requirejs([\"https://cdn.plot.ly/plotly-latest.min.js\"], function(p) {\n",
       "            window.Plotly = p\n",
       "        });\n",
       "    </script>\n"
      ]
     },
     "metadata": {},
     "output_type": "display_data"
    },
    {
     "data": {
      "application/vnd.plotly.v1+json": {
       "data": [
        {
         "colorbar": {
          "title": ""
         },
         "hoverinfo": "text",
         "legendgroup": "y1",
         "line": {
          "color": "rgba(0, 154, 250, 1.000)",
          "dash": "solid",
          "shape": "linear",
          "width": 1
         },
         "mode": "lines",
         "name": "y1",
         "showlegend": true,
         "text": [
          null,
          null,
          null,
          null,
          null,
          null,
          null,
          null,
          null,
          null,
          null,
          null,
          null,
          null,
          null,
          null,
          null,
          null,
          null,
          null,
          null,
          null,
          null,
          null,
          null,
          null,
          null,
          null,
          null,
          null,
          null,
          null,
          null,
          null,
          null,
          null,
          null,
          null,
          null,
          null,
          null
         ],
         "type": "scatter",
         "x": [
          -10,
          -9.5,
          -9,
          -8.5,
          -8,
          -7.5,
          -7,
          -6.5,
          -6,
          -5.5,
          -5,
          -4.5,
          -4,
          -3.5,
          -3,
          -2.5,
          -2,
          -1.5,
          -1,
          -0.5,
          0,
          0.5,
          1,
          1.5,
          2,
          2.5,
          3,
          3.5,
          4,
          4.5,
          5,
          5.5,
          6,
          6.5,
          7,
          7.5,
          8,
          8.5,
          9,
          9.5,
          10
         ],
         "xaxis": "x1",
         "y": [
          4.5397868702434395e-05,
          7.484622751061124e-05,
          0.00012339457598623172,
          0.00020342697805520653,
          0.0003353501304664781,
          0.0005527786369235996,
          0.0009110511944006454,
          0.0015011822567369917,
          0.0024726231566347743,
          0.004070137715896128,
          0.0066928509242848554,
          0.01098694263059318,
          0.01798620996209156,
          0.02931223075135632,
          0.04742587317756678,
          0.07585818002124355,
          0.11920292202211755,
          0.18242552380635635,
          0.2689414213699951,
          0.3775406687981454,
          0.5,
          0.6224593312018546,
          0.7310585786300049,
          0.8175744761936437,
          0.8807970779778823,
          0.9241418199787566,
          0.9525741268224334,
          0.9706877692486436,
          0.9820137900379085,
          0.9890130573694068,
          0.9933071490757153,
          0.995929862284104,
          0.9975273768433653,
          0.998498817743263,
          0.9990889488055994,
          0.9994472213630764,
          0.9996646498695336,
          0.9997965730219448,
          0.9998766054240137,
          0.9999251537724895,
          0.9999546021312976
         ],
         "yaxis": "y1",
         "zmax": 0.1,
         "zmin": -0.1
        }
       ],
       "layout": {
        "annotations": [],
        "height": 400,
        "legend": {
         "bgcolor": "rgba(255, 255, 255, 1.000)",
         "bordercolor": "rgba(0, 0, 0, 1.000)",
         "font": {
          "color": "rgba(0, 0, 0, 1.000)",
          "family": "sans-serif",
          "size": 11
         },
         "tracegroupgap": 0,
         "x": 1,
         "y": 1
        },
        "margin": {
         "b": 20,
         "l": 0,
         "r": 0,
         "t": 20
        },
        "paper_bgcolor": "rgba(255, 255, 255, 1.000)",
        "plot_bgcolor": "rgba(255, 255, 255, 1.000)",
        "showlegend": true,
        "width": 600,
        "xaxis": {
         "anchor": "y1",
         "domain": [
          0.0658209390492855,
          0.9934383202099738
         ],
         "gridcolor": "rgba(0, 0, 0, 0.100)",
         "gridwidth": 0.5,
         "linecolor": "rgba(0, 0, 0, 1.000)",
         "mirror": false,
         "range": [
          -10.6,
          10.6
         ],
         "showgrid": true,
         "showline": true,
         "showticklabels": true,
         "tickangle": 0,
         "tickcolor": "rgb(0, 0, 0)",
         "tickfont": {
          "color": "rgba(0, 0, 0, 1.000)",
          "family": "sans-serif",
          "size": 11
         },
         "tickmode": "array",
         "ticks": "inside",
         "ticktext": [
          "-10",
          "-5",
          "0",
          "5",
          "10"
         ],
         "tickvals": [
          -10,
          -5,
          0,
          5,
          10
         ],
         "title": "",
         "titlefont": {
          "color": "rgba(0, 0, 0, 1.000)",
          "family": "sans-serif",
          "size": 15
         },
         "type": "-",
         "visible": true,
         "zeroline": false,
         "zerolinecolor": "rgba(0, 0, 0, 1.000)"
        },
        "yaxis": {
         "anchor": "x1",
         "domain": [
          0.03762029746281716,
          0.9901574803149606
         ],
         "gridcolor": "rgba(0, 0, 0, 0.100)",
         "gridwidth": 0.5,
         "linecolor": "rgba(0, 0, 0, 1.000)",
         "mirror": false,
         "range": [
          -0.02995187825917542,
          1.0299518782591754
         ],
         "showgrid": true,
         "showline": true,
         "showticklabels": true,
         "tickangle": 0,
         "tickcolor": "rgb(0, 0, 0)",
         "tickfont": {
          "color": "rgba(0, 0, 0, 1.000)",
          "family": "sans-serif",
          "size": 11
         },
         "tickmode": "array",
         "ticks": "inside",
         "ticktext": [
          "0.00",
          "0.25",
          "0.50",
          "0.75",
          "1.00"
         ],
         "tickvals": [
          0,
          0.25,
          0.5,
          0.75,
          1
         ],
         "title": "",
         "titlefont": {
          "color": "rgba(0, 0, 0, 1.000)",
          "family": "sans-serif",
          "size": 15
         },
         "type": "-",
         "visible": true,
         "zeroline": false,
         "zerolinecolor": "rgba(0, 0, 0, 1.000)"
        }
       }
      },
      "text/html": [
       "<!DOCTYPE html>\n",
       "<html>\n",
       "    <head>\n",
       "        <title>Plots.jl</title>\n",
       "        <meta http-equiv=\"content-type\" content=\"text/html; charset=UTF-8\">\n",
       "        <script src=\"https://cdn.plot.ly/plotly-latest.min.js\"></script>\n",
       "    </head>\n",
       "    <body>\n",
       "            <div id=\"758ef05a-bff0-4da4-94f8-7161b35db3dc\" style=\"width:600px;height:400px;\"></div>\n",
       "    <script>\n",
       "    PLOT = document.getElementById('758ef05a-bff0-4da4-94f8-7161b35db3dc');\n",
       "    Plotly.plot(PLOT, [\n",
       "    {\n",
       "        \"colorbar\": {\n",
       "            \"title\": \"\"\n",
       "        },\n",
       "        \"text\": [\n",
       "            null,\n",
       "            null,\n",
       "            null,\n",
       "            null,\n",
       "            null,\n",
       "            null,\n",
       "            null,\n",
       "            null,\n",
       "            null,\n",
       "            null,\n",
       "            null,\n",
       "            null,\n",
       "            null,\n",
       "            null,\n",
       "            null,\n",
       "            null,\n",
       "            null,\n",
       "            null,\n",
       "            null,\n",
       "            null,\n",
       "            null,\n",
       "            null,\n",
       "            null,\n",
       "            null,\n",
       "            null,\n",
       "            null,\n",
       "            null,\n",
       "            null,\n",
       "            null,\n",
       "            null,\n",
       "            null,\n",
       "            null,\n",
       "            null,\n",
       "            null,\n",
       "            null,\n",
       "            null,\n",
       "            null,\n",
       "            null,\n",
       "            null,\n",
       "            null,\n",
       "            null\n",
       "        ],\n",
       "        \"y\": [\n",
       "            4.5397868702434395e-5,\n",
       "            7.484622751061124e-5,\n",
       "            0.00012339457598623172,\n",
       "            0.00020342697805520653,\n",
       "            0.0003353501304664781,\n",
       "            0.0005527786369235996,\n",
       "            0.0009110511944006454,\n",
       "            0.0015011822567369917,\n",
       "            0.0024726231566347743,\n",
       "            0.004070137715896128,\n",
       "            0.0066928509242848554,\n",
       "            0.01098694263059318,\n",
       "            0.01798620996209156,\n",
       "            0.02931223075135632,\n",
       "            0.04742587317756678,\n",
       "            0.07585818002124355,\n",
       "            0.11920292202211755,\n",
       "            0.18242552380635635,\n",
       "            0.2689414213699951,\n",
       "            0.3775406687981454,\n",
       "            0.5,\n",
       "            0.6224593312018546,\n",
       "            0.7310585786300049,\n",
       "            0.8175744761936437,\n",
       "            0.8807970779778823,\n",
       "            0.9241418199787566,\n",
       "            0.9525741268224334,\n",
       "            0.9706877692486436,\n",
       "            0.9820137900379085,\n",
       "            0.9890130573694068,\n",
       "            0.9933071490757153,\n",
       "            0.995929862284104,\n",
       "            0.9975273768433653,\n",
       "            0.998498817743263,\n",
       "            0.9990889488055994,\n",
       "            0.9994472213630764,\n",
       "            0.9996646498695336,\n",
       "            0.9997965730219448,\n",
       "            0.9998766054240137,\n",
       "            0.9999251537724895,\n",
       "            0.9999546021312976\n",
       "        ],\n",
       "        \"x\": [\n",
       "            -10.0,\n",
       "            -9.5,\n",
       "            -9.0,\n",
       "            -8.5,\n",
       "            -8.0,\n",
       "            -7.5,\n",
       "            -7.0,\n",
       "            -6.5,\n",
       "            -6.0,\n",
       "            -5.5,\n",
       "            -5.0,\n",
       "            -4.5,\n",
       "            -4.0,\n",
       "            -3.5,\n",
       "            -3.0,\n",
       "            -2.5,\n",
       "            -2.0,\n",
       "            -1.5,\n",
       "            -1.0,\n",
       "            -0.5,\n",
       "            0.0,\n",
       "            0.5,\n",
       "            1.0,\n",
       "            1.5,\n",
       "            2.0,\n",
       "            2.5,\n",
       "            3.0,\n",
       "            3.5,\n",
       "            4.0,\n",
       "            4.5,\n",
       "            5.0,\n",
       "            5.5,\n",
       "            6.0,\n",
       "            6.5,\n",
       "            7.0,\n",
       "            7.5,\n",
       "            8.0,\n",
       "            8.5,\n",
       "            9.0,\n",
       "            9.5,\n",
       "            10.0\n",
       "        ],\n",
       "        \"xaxis\": \"x1\",\n",
       "        \"name\": \"y1\",\n",
       "        \"type\": \"scatter\",\n",
       "        \"zmin\": -0.1,\n",
       "        \"yaxis\": \"y1\",\n",
       "        \"mode\": \"lines\",\n",
       "        \"zmax\": 0.1,\n",
       "        \"legendgroup\": \"y1\",\n",
       "        \"showlegend\": true,\n",
       "        \"hoverinfo\": \"text\",\n",
       "        \"line\": {\n",
       "            \"shape\": \"linear\",\n",
       "            \"dash\": \"solid\",\n",
       "            \"color\": \"rgba(0, 154, 250, 1.000)\",\n",
       "            \"width\": 1\n",
       "        }\n",
       "    }\n",
       "]\n",
       ", {\n",
       "    \"plot_bgcolor\": \"rgba(255, 255, 255, 1.000)\",\n",
       "    \"height\": 400,\n",
       "    \"xaxis\": {\n",
       "        \"title\": \"\",\n",
       "        \"showgrid\": true,\n",
       "        \"zerolinecolor\": \"rgba(0, 0, 0, 1.000)\",\n",
       "        \"tickangle\": 0,\n",
       "        \"linecolor\": \"rgba(0, 0, 0, 1.000)\",\n",
       "        \"range\": [\n",
       "            -10.6,\n",
       "            10.6\n",
       "        ],\n",
       "        \"ticktext\": [\n",
       "            \"-10\",\n",
       "            \"-5\",\n",
       "            \"0\",\n",
       "            \"5\",\n",
       "            \"10\"\n",
       "        ],\n",
       "        \"zeroline\": false,\n",
       "        \"type\": \"-\",\n",
       "        \"mirror\": false,\n",
       "        \"domain\": [\n",
       "            0.0658209390492855,\n",
       "            0.9934383202099738\n",
       "        ],\n",
       "        \"gridcolor\": \"rgba(0, 0, 0, 0.100)\",\n",
       "        \"showline\": true,\n",
       "        \"showticklabels\": true,\n",
       "        \"ticks\": \"inside\",\n",
       "        \"anchor\": \"y1\",\n",
       "        \"tickfont\": {\n",
       "            \"size\": 11,\n",
       "            \"color\": \"rgba(0, 0, 0, 1.000)\",\n",
       "            \"family\": \"sans-serif\"\n",
       "        },\n",
       "        \"tickmode\": \"array\",\n",
       "        \"visible\": true,\n",
       "        \"titlefont\": {\n",
       "            \"size\": 15,\n",
       "            \"color\": \"rgba(0, 0, 0, 1.000)\",\n",
       "            \"family\": \"sans-serif\"\n",
       "        },\n",
       "        \"tickcolor\": \"rgb(0, 0, 0)\",\n",
       "        \"tickvals\": [\n",
       "            -10.0,\n",
       "            -5.0,\n",
       "            0.0,\n",
       "            5.0,\n",
       "            10.0\n",
       "        ],\n",
       "        \"gridwidth\": 0.5\n",
       "    },\n",
       "    \"width\": 600,\n",
       "    \"paper_bgcolor\": \"rgba(255, 255, 255, 1.000)\",\n",
       "    \"annotations\": [],\n",
       "    \"yaxis\": {\n",
       "        \"title\": \"\",\n",
       "        \"showgrid\": true,\n",
       "        \"zerolinecolor\": \"rgba(0, 0, 0, 1.000)\",\n",
       "        \"tickangle\": 0,\n",
       "        \"linecolor\": \"rgba(0, 0, 0, 1.000)\",\n",
       "        \"range\": [\n",
       "            -0.02995187825917542,\n",
       "            1.0299518782591754\n",
       "        ],\n",
       "        \"ticktext\": [\n",
       "            \"0.00\",\n",
       "            \"0.25\",\n",
       "            \"0.50\",\n",
       "            \"0.75\",\n",
       "            \"1.00\"\n",
       "        ],\n",
       "        \"zeroline\": false,\n",
       "        \"type\": \"-\",\n",
       "        \"mirror\": false,\n",
       "        \"domain\": [\n",
       "            0.03762029746281716,\n",
       "            0.9901574803149606\n",
       "        ],\n",
       "        \"gridcolor\": \"rgba(0, 0, 0, 0.100)\",\n",
       "        \"showline\": true,\n",
       "        \"showticklabels\": true,\n",
       "        \"ticks\": \"inside\",\n",
       "        \"anchor\": \"x1\",\n",
       "        \"tickfont\": {\n",
       "            \"size\": 11,\n",
       "            \"color\": \"rgba(0, 0, 0, 1.000)\",\n",
       "            \"family\": \"sans-serif\"\n",
       "        },\n",
       "        \"tickmode\": \"array\",\n",
       "        \"visible\": true,\n",
       "        \"titlefont\": {\n",
       "            \"size\": 15,\n",
       "            \"color\": \"rgba(0, 0, 0, 1.000)\",\n",
       "            \"family\": \"sans-serif\"\n",
       "        },\n",
       "        \"tickcolor\": \"rgb(0, 0, 0)\",\n",
       "        \"tickvals\": [\n",
       "            0.0,\n",
       "            0.25,\n",
       "            0.5,\n",
       "            0.75,\n",
       "            1.0\n",
       "        ],\n",
       "        \"gridwidth\": 0.5\n",
       "    },\n",
       "    \"showlegend\": true,\n",
       "    \"margin\": {\n",
       "        \"l\": 0,\n",
       "        \"r\": 0,\n",
       "        \"t\": 20,\n",
       "        \"b\": 20\n",
       "    },\n",
       "    \"legend\": {\n",
       "        \"y\": 1.0,\n",
       "        \"tracegroupgap\": 0,\n",
       "        \"x\": 1.0,\n",
       "        \"bordercolor\": \"rgba(0, 0, 0, 1.000)\",\n",
       "        \"bgcolor\": \"rgba(255, 255, 255, 1.000)\",\n",
       "        \"font\": {\n",
       "            \"size\": 11,\n",
       "            \"color\": \"rgba(0, 0, 0, 1.000)\",\n",
       "            \"family\": \"sans-serif\"\n",
       "        }\n",
       "    }\n",
       "}\n",
       ");\n",
       "    </script>\n",
       "\n",
       "    </body>\n",
       "</html>\n"
      ]
     },
     "execution_count": 7,
     "metadata": {},
     "output_type": "execute_result"
    }
   ],
   "source": [
    "using Plots\n",
    "plotly()\n",
    "plot(full_range, sigmoid_array)"
   ]
  },
  {
   "cell_type": "markdown",
   "metadata": {},
   "source": [
    "### Random Number Generation\n",
    "\n",
    "Now we need to randomly initialise some random numbers"
   ]
  },
  {
   "cell_type": "code",
   "execution_count": 63,
   "metadata": {},
   "outputs": [
    {
     "data": {
      "text/plain": [
       "3×1 Array{Float64,2}:\n",
       " -1.2175140033466896 \n",
       "  0.6639190654576367 \n",
       "  0.18607079419065026"
      ]
     },
     "execution_count": 63,
     "metadata": {},
     "output_type": "execute_result"
    }
   ],
   "source": [
    "#syn0 = randn(Float64, (3,4))\n",
    "syn1 = randn(Float64, (3,1))\n",
    "transpose(syn1)\n",
    "syn1"
   ]
  },
  {
   "cell_type": "code",
   "execution_count": 9,
   "metadata": {},
   "outputs": [
    {
     "name": "stdout",
     "output_type": "stream",
     "text": [
      "0.0377748916420669\n"
     ]
    }
   ],
   "source": [
    "using Statistics\n",
    "println(mean(syn1))\n",
    "#println(mean(syn1))"
   ]
  },
  {
   "cell_type": "code",
   "execution_count": 64,
   "metadata": {},
   "outputs": [
    {
     "name": "stdout",
     "output_type": "stream",
     "text": [
      "(4, 3)"
     ]
    },
    {
     "data": {
      "text/plain": [
       "4×3 Array{Int32,2}:\n",
       " 0  1  1\n",
       " 0  1  1\n",
       " 1  0  1\n",
       " 1  1  1"
      ]
     },
     "execution_count": 64,
     "metadata": {},
     "output_type": "execute_result"
    }
   ],
   "source": [
    "print(size(X))\n",
    "X"
   ]
  },
  {
   "cell_type": "code",
   "execution_count": 65,
   "metadata": {},
   "outputs": [
    {
     "data": {
      "text/plain": [
       "4×1 Array{Float64,2}:\n",
       "  0.8499898596482869 \n",
       "  0.8499898596482869 \n",
       " -1.0314432091560393 \n",
       " -0.36752414369840264"
      ]
     },
     "execution_count": 65,
     "metadata": {},
     "output_type": "execute_result"
    }
   ],
   "source": [
    "example = X*syn1"
   ]
  },
  {
   "cell_type": "code",
   "execution_count": 66,
   "metadata": {},
   "outputs": [
    {
     "data": {
      "text/plain": [
       "0.7005650152994582"
      ]
     },
     "execution_count": 66,
     "metadata": {},
     "output_type": "execute_result"
    }
   ],
   "source": [
    "sigmoid(example[1])"
   ]
  },
  {
   "cell_type": "code",
   "execution_count": 67,
   "metadata": {},
   "outputs": [
    {
     "data": {
      "text/plain": [
       "4×1 Array{Float64,2}:\n",
       " 0.7005650152994582 \n",
       " 0.7005650152994582 \n",
       " 0.26280440365231117\n",
       " 0.4091394109298443 "
      ]
     },
     "execution_count": 67,
     "metadata": {},
     "output_type": "execute_result"
    }
   ],
   "source": [
    "sigmoid.(X*syn1)"
   ]
  },
  {
   "cell_type": "code",
   "execution_count": 68,
   "metadata": {},
   "outputs": [
    {
     "data": {
      "text/plain": [
       "4×1 Array{Float64,2}:\n",
       " 0.20977367463792806\n",
       " 0.20977367463792806\n",
       " 0.19373824907326426\n",
       " 0.2417443533538243 "
      ]
     },
     "execution_count": 68,
     "metadata": {},
     "output_type": "execute_result"
    }
   ],
   "source": [
    "deriv(sigmoid.(X*syn1))"
   ]
  },
  {
   "cell_type": "code",
   "execution_count": 74,
   "metadata": {},
   "outputs": [
    {
     "name": "stdout",
     "output_type": "stream",
     "text": [
      "[0.0344936; 0.0344936; 0.995205; 0.956299]"
     ]
    }
   ],
   "source": [
    "for j in 1:1:100\n",
    "    global l1\n",
    "    l0 = X #l0 = (4,3)\n",
    "    l1 = sigmoid.(X*syn1) #l1 = 4,1\n",
    "    #println(l1)\n",
    "    l1_error = y - l1 #l1_error = 4,\n",
    "    #println(l1_error)\n",
    "    l1_delta = l1_error .* deriv.(l1)\n",
    "    #print(size(l1_delta))\n",
    "    syn1 += transpose(l0) * l1_delta\n",
    "end\n",
    "print(l1)"
   ]
  }
 ],
 "metadata": {
  "kernelspec": {
   "display_name": "Julia 1.0.4",
   "language": "julia",
   "name": "julia-1.0"
  },
  "language_info": {
   "file_extension": ".jl",
   "mimetype": "application/julia",
   "name": "julia",
   "version": "1.0.4"
  }
 },
 "nbformat": 4,
 "nbformat_minor": 2
}
