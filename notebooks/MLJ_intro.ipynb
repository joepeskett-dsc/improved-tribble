{
 "cells": [
  {
   "cell_type": "markdown",
   "metadata": {},
   "source": [
    "## An introduction to MLJ\n",
    "\n",
    "This is a first experiment to see how the MLJ library from the Alan Turing Institute fits together. Later I want to have a look at how it compares with other APIs offered in Julia aswell as the `Flux` library.\n",
    "\n",
    "Cheat sheet for MLJ can be found [here](https://github.com/alan-turing-institute/MLJ.jl/blob/master/docs/src/mlj_cheatsheet.md)"
   ]
  },
  {
   "cell_type": "markdown",
   "metadata": {},
   "source": [
    "[Tutorial to follow](https://github.com/alan-turing-institute/MLJ.jl/blob/master/examples/xgboost.jl)"
   ]
  },
  {
   "cell_type": "code",
   "execution_count": 44,
   "metadata": {},
   "outputs": [
    {
     "name": "stdout",
     "output_type": "stream",
     "text": [
      "\u001b[32m\u001b[1m Resolving\u001b[22m\u001b[39m package versions...\n",
      "\u001b[32m\u001b[1m  Updating\u001b[22m\u001b[39m `~/.julia/environments/v1.0/Project.toml`\n",
      " \u001b[90m [d491faf4]\u001b[39m\u001b[92m + MLJModels v0.2.5\u001b[39m\n",
      "\u001b[32m\u001b[1m  Updating\u001b[22m\u001b[39m `~/.julia/environments/v1.0/Manifest.toml`\n",
      "\u001b[90m [no changes]\u001b[39m\n"
     ]
    }
   ],
   "source": [
    "Pkg.add(\"MLJModels\")"
   ]
  },
  {
   "cell_type": "code",
   "execution_count": null,
   "metadata": {},
   "outputs": [],
   "source": [
    "using MLJ"
   ]
  },
  {
   "cell_type": "code",
   "execution_count": 7,
   "metadata": {},
   "outputs": [
    {
     "name": "stdout",
     "output_type": "stream",
     "text": [
      "\u001b[32m\u001b[1m Resolving\u001b[22m\u001b[39m package versions...\n",
      "\u001b[32m\u001b[1m  Updating\u001b[22m\u001b[39m `~/.julia/environments/v1.0/Project.toml`\n",
      " \u001b[90m [a93c6f00]\u001b[39m\u001b[92m + DataFrames v0.18.4\u001b[39m\n",
      "\u001b[32m\u001b[1m  Updating\u001b[22m\u001b[39m `~/.julia/environments/v1.0/Manifest.toml`\n",
      "\u001b[90m [no changes]\u001b[39m\n",
      "\u001b[32m\u001b[1m Resolving\u001b[22m\u001b[39m package versions...\n",
      "\u001b[32m\u001b[1m  Updating\u001b[22m\u001b[39m `~/.julia/environments/v1.0/Project.toml`\n",
      " \u001b[90m [10745b16]\u001b[39m\u001b[92m + Statistics \u001b[39m\n",
      "\u001b[32m\u001b[1m  Updating\u001b[22m\u001b[39m `~/.julia/environments/v1.0/Manifest.toml`\n",
      "\u001b[90m [no changes]\u001b[39m\n"
     ]
    }
   ],
   "source": [
    "#using Pkg\n",
    "#Pkg.add(\"MLJ\")\n",
    "Pkg.add(\"DataFrames\")\n",
    "Pkg.add(\"Statistics\")\n",
    "import MLJ"
   ]
  },
  {
   "cell_type": "markdown",
   "metadata": {},
   "source": [
    "The code below is taken from the MLJ github documentation - I will probably modify it to work out what is going on in various sections. "
   ]
  },
  {
   "cell_type": "code",
   "execution_count": 8,
   "metadata": {},
   "outputs": [],
   "source": [
    "using MLJ\n",
    "using DataFrames, Statistics\n",
    "\n",
    "Xraw = rand(300,3)\n",
    "y = exp.(Xraw[:,1] - Xraw[:,2] - 2Xraw[:,3] + 0.1*rand(300))\n",
    "X = DataFrame(Xraw)\n",
    "\n",
    "train, test = partition(eachindex(y), 0.70); # 70:30 split\n"
   ]
  },
  {
   "cell_type": "markdown",
   "metadata": {},
   "source": [
    "Rand is used to generate random arrays.\n",
    "DataFrame (obviously) creates a dataframe, documentation shown below"
   ]
  },
  {
   "cell_type": "code",
   "execution_count": 40,
   "metadata": {},
   "outputs": [
    {
     "data": {
      "text/html": [
       "<table class=\"data-frame\"><thead><tr><th></th><th>x1</th><th>x2</th></tr><tr><th></th><th>Float64</th><th>Float64</th></tr></thead><tbody><p>5 rows × 2 columns</p><tr><th>1</th><td>0.264755</td><td>0.107134</td></tr><tr><th>2</th><td>0.674143</td><td>0.53762</td></tr><tr><th>3</th><td>0.643489</td><td>0.859872</td></tr><tr><th>4</th><td>0.867383</td><td>0.164025</td></tr><tr><th>5</th><td>0.368138</td><td>0.558377</td></tr></tbody></table>"
      ],
      "text/latex": [
       "\\begin{tabular}{r|cc}\n",
       "\t& x1 & x2\\\\\n",
       "\t\\hline\n",
       "\t& Float64 & Float64\\\\\n",
       "\t\\hline\n",
       "\t1 & 0.264755 & 0.107134 \\\\\n",
       "\t2 & 0.674143 & 0.53762 \\\\\n",
       "\t3 & 0.643489 & 0.859872 \\\\\n",
       "\t4 & 0.867383 & 0.164025 \\\\\n",
       "\t5 & 0.368138 & 0.558377 \\\\\n",
       "\\end{tabular}\n"
      ],
      "text/plain": [
       "5×2 DataFrame\n",
       "│ Row │ x1       │ x2       │\n",
       "│     │ \u001b[90mFloat64\u001b[39m  │ \u001b[90mFloat64\u001b[39m  │\n",
       "├─────┼──────────┼──────────┤\n",
       "│ 1   │ 0.264755 │ 0.107134 │\n",
       "│ 2   │ 0.674143 │ 0.53762  │\n",
       "│ 3   │ 0.643489 │ 0.859872 │\n",
       "│ 4   │ 0.867383 │ 0.164025 │\n",
       "│ 5   │ 0.368138 │ 0.558377 │"
      ]
     },
     "execution_count": 40,
     "metadata": {},
     "output_type": "execute_result"
    }
   ],
   "source": [
    "X[1:5,1:2]"
   ]
  },
  {
   "cell_type": "code",
   "execution_count": 43,
   "metadata": {},
   "outputs": [
    {
     "data": {
      "text/html": [
       "<table class=\"data-frame\"><thead><tr><th></th><th>x1</th><th>x2</th><th>x3</th></tr><tr><th></th><th>Float64</th><th>Float64</th><th>Float64</th></tr></thead><tbody><p>10 rows × 3 columns</p><tr><th>1</th><td>0.264755</td><td>0.107134</td><td>0.967214</td></tr><tr><th>2</th><td>0.674143</td><td>0.53762</td><td>0.649284</td></tr><tr><th>3</th><td>0.643489</td><td>0.859872</td><td>0.25699</td></tr><tr><th>4</th><td>0.867383</td><td>0.164025</td><td>0.431323</td></tr><tr><th>5</th><td>0.368138</td><td>0.558377</td><td>0.900089</td></tr><tr><th>6</th><td>0.835311</td><td>0.758922</td><td>0.598778</td></tr><tr><th>7</th><td>0.48551</td><td>0.705731</td><td>0.105429</td></tr><tr><th>8</th><td>0.969575</td><td>0.772435</td><td>0.784534</td></tr><tr><th>9</th><td>0.422349</td><td>0.302194</td><td>0.671541</td></tr><tr><th>10</th><td>0.00892118</td><td>0.687196</td><td>0.844213</td></tr></tbody></table>"
      ],
      "text/latex": [
       "\\begin{tabular}{r|ccc}\n",
       "\t& x1 & x2 & x3\\\\\n",
       "\t\\hline\n",
       "\t& Float64 & Float64 & Float64\\\\\n",
       "\t\\hline\n",
       "\t1 & 0.264755 & 0.107134 & 0.967214 \\\\\n",
       "\t2 & 0.674143 & 0.53762 & 0.649284 \\\\\n",
       "\t3 & 0.643489 & 0.859872 & 0.25699 \\\\\n",
       "\t4 & 0.867383 & 0.164025 & 0.431323 \\\\\n",
       "\t5 & 0.368138 & 0.558377 & 0.900089 \\\\\n",
       "\t6 & 0.835311 & 0.758922 & 0.598778 \\\\\n",
       "\t7 & 0.48551 & 0.705731 & 0.105429 \\\\\n",
       "\t8 & 0.969575 & 0.772435 & 0.784534 \\\\\n",
       "\t9 & 0.422349 & 0.302194 & 0.671541 \\\\\n",
       "\t10 & 0.00892118 & 0.687196 & 0.844213 \\\\\n",
       "\\end{tabular}\n"
      ],
      "text/plain": [
       "10×3 DataFrame\n",
       "│ Row │ x1         │ x2       │ x3       │\n",
       "│     │ \u001b[90mFloat64\u001b[39m    │ \u001b[90mFloat64\u001b[39m  │ \u001b[90mFloat64\u001b[39m  │\n",
       "├─────┼────────────┼──────────┼──────────┤\n",
       "│ 1   │ 0.264755   │ 0.107134 │ 0.967214 │\n",
       "│ 2   │ 0.674143   │ 0.53762  │ 0.649284 │\n",
       "│ 3   │ 0.643489   │ 0.859872 │ 0.25699  │\n",
       "│ 4   │ 0.867383   │ 0.164025 │ 0.431323 │\n",
       "│ 5   │ 0.368138   │ 0.558377 │ 0.900089 │\n",
       "│ 6   │ 0.835311   │ 0.758922 │ 0.598778 │\n",
       "│ 7   │ 0.48551    │ 0.705731 │ 0.105429 │\n",
       "│ 8   │ 0.969575   │ 0.772435 │ 0.784534 │\n",
       "│ 9   │ 0.422349   │ 0.302194 │ 0.671541 │\n",
       "│ 10  │ 0.00892118 │ 0.687196 │ 0.844213 │"
      ]
     },
     "execution_count": 43,
     "metadata": {},
     "output_type": "execute_result"
    }
   ],
   "source": [
    "X[1:10,:]"
   ]
  },
  {
   "cell_type": "code",
   "execution_count": 27,
   "metadata": {},
   "outputs": [
    {
     "data": {
      "text/plain": [
       "10×5 Array{Float64,2}:\n",
       " 76.5  41.3   9.9  63.7  53.8\n",
       " 60.8  71.4  91.3  65.3  99.7\n",
       " 90.0  33.6  69.9  99.5  83.5\n",
       " 78.6  62.5  39.2  26.7  18.4\n",
       " 72.2  57.0  99.9  61.1  26.7\n",
       "  9.2  10.5  36.6  28.8   5.6\n",
       " 56.2  49.3  65.4  69.6  44.9\n",
       " 28.9  32.4  75.8  25.3  66.6\n",
       " 48.2  74.7  83.0  74.0  42.7\n",
       " 42.4  33.5  88.2   4.5  48.3"
      ]
     },
     "execution_count": 27,
     "metadata": {},
     "output_type": "execute_result"
    }
   ],
   "source": [
    "rand(1:0.1:100, 10, 5)"
   ]
  },
  {
   "cell_type": "code",
   "execution_count": 18,
   "metadata": {},
   "outputs": [
    {
     "data": {
      "text/plain": [
       "KNNRegressor(K = 10,\n",
       "             metric = MLJ.KNN.euclidean,\n",
       "             kernel = MLJ.KNN.reciprocal,)\u001b[34m @ 1…63\u001b[39m"
      ]
     },
     "execution_count": 18,
     "metadata": {},
     "output_type": "execute_result"
    }
   ],
   "source": [
    "knn_model=KNNRegressor(K=10)"
   ]
  },
  {
   "cell_type": "code",
   "execution_count": 19,
   "metadata": {},
   "outputs": [
    {
     "data": {
      "text/plain": [
       "\u001b[34mMachine{KNNRegressor} @ 3…88\u001b[39m\n"
      ]
     },
     "execution_count": 19,
     "metadata": {},
     "output_type": "execute_result"
    }
   ],
   "source": [
    "knn = machine(knn_model, X, y)"
   ]
  },
  {
   "cell_type": "code",
   "execution_count": 20,
   "metadata": {},
   "outputs": [
    {
     "name": "stderr",
     "output_type": "stream",
     "text": [
      "┌ Info: Training \u001b[34mMachine{KNNRegressor} @ 3…88\u001b[39m.\n",
      "└ @ MLJ /home/joe/.julia/packages/MLJ/XYSFt/src/machines.jl:135\n"
     ]
    },
    {
     "data": {
      "text/plain": [
       "0.11248451413808438"
      ]
     },
     "execution_count": 20,
     "metadata": {},
     "output_type": "execute_result"
    }
   ],
   "source": [
    "fit!(knn, rows=train)\n",
    "yhat = predict(knn, X[test,:])\n",
    "rms(yhat, y[test])"
   ]
  },
  {
   "cell_type": "code",
   "execution_count": 21,
   "metadata": {},
   "outputs": [
    {
     "name": "stderr",
     "output_type": "stream",
     "text": [
      "┌ Info: Evaluating using a holdout set. \n",
      "│ fraction_train=0.7 \n",
      "│ shuffle=false \n",
      "│ measure=MLJ.rms \n",
      "│ operation=StatsBase.predict \n",
      "│ Resampling from all rows. \n",
      "└ @ MLJ /home/joe/.julia/packages/MLJ/XYSFt/src/resampling.jl:92\n"
     ]
    },
    {
     "data": {
      "text/plain": [
       "0.11248451413808438"
      ]
     },
     "execution_count": 21,
     "metadata": {},
     "output_type": "execute_result"
    }
   ],
   "source": [
    "evaluate!(knn, resampling=Holdout(fraction_train=0.7), measure=rms)"
   ]
  },
  {
   "cell_type": "code",
   "execution_count": 22,
   "metadata": {},
   "outputs": [
    {
     "name": "stderr",
     "output_type": "stream",
     "text": [
      "┌ Info: Evaluating using a holdout set. \n",
      "│ fraction_train=0.7 \n",
      "│ shuffle=false \n",
      "│ measure=MLJ.rms \n",
      "│ operation=StatsBase.predict \n",
      "│ Resampling from all rows. \n",
      "└ @ MLJ /home/joe/.julia/packages/MLJ/XYSFt/src/resampling.jl:92\n"
     ]
    },
    {
     "data": {
      "text/plain": [
       "0.1322170417086064"
      ]
     },
     "execution_count": 22,
     "metadata": {},
     "output_type": "execute_result"
    }
   ],
   "source": [
    "knn_model.K = 20\n",
    "evaluate!(knn, resampling=Holdout(fraction_train=0.7))  # `default_measure(knn) == rms` so `measure` kwarg can be dropped"
   ]
  },
  {
   "cell_type": "code",
   "execution_count": null,
   "metadata": {},
   "outputs": [],
   "source": [
    "## Homogenous ensembles\n",
    "\n",
    "It seems very easy to create ensembles in Julia."
   ]
  }
 ],
 "metadata": {
  "kernelspec": {
   "display_name": "Julia 1.0.4",
   "language": "julia",
   "name": "julia-1.0"
  },
  "language_info": {
   "file_extension": ".jl",
   "mimetype": "application/julia",
   "name": "julia",
   "version": "1.0.4"
  }
 },
 "nbformat": 4,
 "nbformat_minor": 2
}
