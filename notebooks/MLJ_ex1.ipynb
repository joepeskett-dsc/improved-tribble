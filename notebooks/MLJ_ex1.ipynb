{
 "cells": [
  {
   "cell_type": "markdown",
   "metadata": {},
   "source": [
    "## MLJ Example 1\n",
    "\n"
   ]
  },
  {
   "cell_type": "code",
   "execution_count": 3,
   "metadata": {},
   "outputs": [
    {
     "name": "stdout",
     "output_type": "stream",
     "text": [
      "\u001b[32m\u001b[1m Resolving\u001b[22m\u001b[39m package versions...\n",
      "\u001b[32m\u001b[1m Installed\u001b[22m\u001b[39m PlotThemes ──── v0.3.0\n",
      "\u001b[32m\u001b[1m Installed\u001b[22m\u001b[39m Showoff ─────── v0.3.1\n",
      "\u001b[32m\u001b[1m Installed\u001b[22m\u001b[39m Measures ────── v0.3.0\n",
      "\u001b[32m\u001b[1m Installed\u001b[22m\u001b[39m FFMPEG ──────── v0.2.2\n",
      "\u001b[32m\u001b[1m Installed\u001b[22m\u001b[39m Plots ───────── v0.26.2\n",
      "\u001b[32m\u001b[1m Installed\u001b[22m\u001b[39m PlotUtils ───── v0.5.8\n",
      "\u001b[32m\u001b[1m Installed\u001b[22m\u001b[39m GeometryTypes ─ v0.7.5\n",
      "\u001b[32m\u001b[1m Installed\u001b[22m\u001b[39m IterTools ───── v1.2.0\n",
      "\u001b[32m\u001b[1m Installed\u001b[22m\u001b[39m Contour ─────── v0.5.1\n",
      "\u001b[32m\u001b[1m Installed\u001b[22m\u001b[39m GR ──────────── v0.41.0\n",
      "\u001b[32m\u001b[1m  Updating\u001b[22m\u001b[39m `~/.julia/environments/v1.0/Project.toml`\n",
      " \u001b[90m [91a5bcdd]\u001b[39m\u001b[92m + Plots v0.26.2\u001b[39m\n",
      "\u001b[32m\u001b[1m  Updating\u001b[22m\u001b[39m `~/.julia/environments/v1.0/Manifest.toml`\n",
      " \u001b[90m [d38c429a]\u001b[39m\u001b[92m + Contour v0.5.1\u001b[39m\n",
      " \u001b[90m [c87230d0]\u001b[39m\u001b[92m + FFMPEG v0.2.2\u001b[39m\n",
      " \u001b[90m [28b8d3ca]\u001b[39m\u001b[92m + GR v0.41.0\u001b[39m\n",
      " \u001b[90m [4d00f742]\u001b[39m\u001b[92m + GeometryTypes v0.7.5\u001b[39m\n",
      " \u001b[90m [c8e1da08]\u001b[39m\u001b[92m + IterTools v1.2.0\u001b[39m\n",
      " \u001b[90m [442fdcdd]\u001b[39m\u001b[92m + Measures v0.3.0\u001b[39m\n",
      " \u001b[90m [ccf2f8ad]\u001b[39m\u001b[92m + PlotThemes v0.3.0\u001b[39m\n",
      " \u001b[90m [995b91a9]\u001b[39m\u001b[92m + PlotUtils v0.5.8\u001b[39m\n",
      " \u001b[90m [91a5bcdd]\u001b[39m\u001b[92m + Plots v0.26.2\u001b[39m\n",
      " \u001b[90m [992d4aef]\u001b[39m\u001b[92m + Showoff v0.3.1\u001b[39m\n",
      "\u001b[32m\u001b[1m  Building\u001b[22m\u001b[39m FFMPEG → `~/.julia/packages/FFMPEG/9JQpZ/deps/build.log`\n",
      "\u001b[32m\u001b[1m  Building\u001b[22m\u001b[39m GR ────→ `~/.julia/packages/GR/ZI5OE/deps/build.log`\n",
      "\u001b[32m\u001b[1m  Building\u001b[22m\u001b[39m Plots ─→ `~/.julia/packages/Plots/Ih71u/deps/build.log`\n"
     ]
    },
    {
     "name": "stderr",
     "output_type": "stream",
     "text": [
      "┌ Info: Precompiling Plots [91a5bcdd-55d7-5caf-9e0b-520d859cae80]\n",
      "└ @ Base loading.jl:1192\n"
     ]
    }
   ],
   "source": [
    "using Pkg\n",
    "Pkg.add(\"Plots\")\n",
    "using StatsBase\n",
    "using MLJ\n",
    "using Random\n",
    "using Plots"
   ]
  },
  {
   "cell_type": "code",
   "execution_count": 4,
   "metadata": {},
   "outputs": [
    {
     "data": {
      "text/plain": [
       "Plots.PlotlyBackend()"
      ]
     },
     "execution_count": 4,
     "metadata": {},
     "output_type": "execute_result"
    }
   ],
   "source": [
    "plotly()"
   ]
  },
  {
   "cell_type": "code",
   "execution_count": 5,
   "metadata": {},
   "outputs": [
    {
     "data": {
      "text/plain": [
       "\u001b[34mSupervisedTask @ 5…90\u001b[39m\n"
      ]
     },
     "execution_count": 5,
     "metadata": {},
     "output_type": "execute_result"
    }
   ],
   "source": [
    "task = load_crabs()\n",
    "shuffle!(MersenneTwister(134), task)"
   ]
  },
  {
   "cell_type": "code",
   "execution_count": 6,
   "metadata": {},
   "outputs": [
    {
     "data": {
      "text/latex": [
       "Load a well-known crab classification dataset with nominal features.\n",
       "\n"
      ],
      "text/markdown": [
       "Load a well-known crab classification dataset with nominal features.\n"
      ],
      "text/plain": [
       "  Load a well-known crab classification dataset with nominal features."
      ]
     },
     "execution_count": 6,
     "metadata": {},
     "output_type": "execute_result"
    }
   ],
   "source": [
    "?load_crabs()"
   ]
  },
  {
   "cell_type": "code",
   "execution_count": 9,
   "metadata": {},
   "outputs": [
    {
     "data": {
      "text/html": [
       "<table class=\"data-frame\"><thead><tr><th></th><th>FL</th><th>RW</th><th>CL</th><th>CW</th><th>BD</th></tr><tr><th></th><th>Float64</th><th>Float64</th><th>Float64</th><th>Float64</th><th>Float64</th></tr></thead><tbody><p>200 rows × 5 columns</p><tr><th>1</th><td>17.5</td><td>12.0</td><td>34.4</td><td>37.3</td><td>15.3</td></tr><tr><th>2</th><td>17.2</td><td>13.5</td><td>37.6</td><td>43.9</td><td>16.1</td></tr><tr><th>3</th><td>14.6</td><td>11.3</td><td>31.9</td><td>36.4</td><td>13.7</td></tr><tr><th>4</th><td>12.8</td><td>12.2</td><td>27.9</td><td>31.9</td><td>11.5</td></tr><tr><th>5</th><td>19.7</td><td>15.3</td><td>41.9</td><td>48.5</td><td>17.8</td></tr><tr><th>6</th><td>15.7</td><td>13.9</td><td>33.6</td><td>38.5</td><td>14.1</td></tr><tr><th>7</th><td>12.6</td><td>10.0</td><td>27.7</td><td>31.7</td><td>11.4</td></tr><tr><th>8</th><td>20.6</td><td>17.5</td><td>41.5</td><td>46.2</td><td>19.2</td></tr><tr><th>9</th><td>12.0</td><td>10.7</td><td>24.6</td><td>28.9</td><td>10.5</td></tr><tr><th>10</th><td>7.2</td><td>6.5</td><td>14.7</td><td>17.1</td><td>6.1</td></tr><tr><th>11</th><td>16.1</td><td>12.8</td><td>34.9</td><td>40.7</td><td>15.7</td></tr><tr><th>12</th><td>21.0</td><td>15.0</td><td>42.9</td><td>47.2</td><td>19.4</td></tr><tr><th>13</th><td>18.9</td><td>16.7</td><td>36.3</td><td>41.7</td><td>15.3</td></tr><tr><th>14</th><td>18.2</td><td>13.7</td><td>38.8</td><td>42.7</td><td>17.2</td></tr><tr><th>15</th><td>17.9</td><td>14.1</td><td>39.7</td><td>44.6</td><td>16.8</td></tr><tr><th>16</th><td>19.4</td><td>14.1</td><td>39.1</td><td>43.2</td><td>17.8</td></tr><tr><th>17</th><td>13.2</td><td>11.0</td><td>27.1</td><td>30.4</td><td>12.2</td></tr><tr><th>18</th><td>23.0</td><td>16.8</td><td>47.2</td><td>52.1</td><td>21.5</td></tr><tr><th>19</th><td>19.8</td><td>14.2</td><td>43.2</td><td>49.7</td><td>18.6</td></tr><tr><th>20</th><td>17.6</td><td>14.0</td><td>34.0</td><td>38.6</td><td>15.5</td></tr><tr><th>21</th><td>13.3</td><td>11.1</td><td>27.8</td><td>32.3</td><td>11.3</td></tr><tr><th>22</th><td>15.7</td><td>12.2</td><td>31.7</td><td>34.2</td><td>14.2</td></tr><tr><th>23</th><td>15.1</td><td>13.3</td><td>31.8</td><td>36.3</td><td>13.5</td></tr><tr><th>24</th><td>10.1</td><td>9.3</td><td>20.9</td><td>24.4</td><td>8.4</td></tr><tr><th>25</th><td>21.4</td><td>18.0</td><td>41.2</td><td>46.2</td><td>18.7</td></tr><tr><th>26</th><td>12.9</td><td>11.2</td><td>25.8</td><td>29.1</td><td>11.9</td></tr><tr><th>27</th><td>18.4</td><td>15.5</td><td>35.6</td><td>40.0</td><td>15.9</td></tr><tr><th>28</th><td>16.2</td><td>11.8</td><td>32.3</td><td>35.3</td><td>14.7</td></tr><tr><th>29</th><td>17.1</td><td>12.7</td><td>36.7</td><td>41.9</td><td>15.6</td></tr><tr><th>30</th><td>16.9</td><td>13.2</td><td>37.3</td><td>42.7</td><td>15.6</td></tr><tr><th>&vellip;</th><td>&vellip;</td><td>&vellip;</td><td>&vellip;</td><td>&vellip;</td><td>&vellip;</td></tr></tbody></table>"
      ],
      "text/latex": [
       "\\begin{tabular}{r|ccccc}\n",
       "\t& FL & RW & CL & CW & BD\\\\\n",
       "\t\\hline\n",
       "\t& Float64 & Float64 & Float64 & Float64 & Float64\\\\\n",
       "\t\\hline\n",
       "\t1 & 17.5 & 12.0 & 34.4 & 37.3 & 15.3 \\\\\n",
       "\t2 & 17.2 & 13.5 & 37.6 & 43.9 & 16.1 \\\\\n",
       "\t3 & 14.6 & 11.3 & 31.9 & 36.4 & 13.7 \\\\\n",
       "\t4 & 12.8 & 12.2 & 27.9 & 31.9 & 11.5 \\\\\n",
       "\t5 & 19.7 & 15.3 & 41.9 & 48.5 & 17.8 \\\\\n",
       "\t6 & 15.7 & 13.9 & 33.6 & 38.5 & 14.1 \\\\\n",
       "\t7 & 12.6 & 10.0 & 27.7 & 31.7 & 11.4 \\\\\n",
       "\t8 & 20.6 & 17.5 & 41.5 & 46.2 & 19.2 \\\\\n",
       "\t9 & 12.0 & 10.7 & 24.6 & 28.9 & 10.5 \\\\\n",
       "\t10 & 7.2 & 6.5 & 14.7 & 17.1 & 6.1 \\\\\n",
       "\t11 & 16.1 & 12.8 & 34.9 & 40.7 & 15.7 \\\\\n",
       "\t12 & 21.0 & 15.0 & 42.9 & 47.2 & 19.4 \\\\\n",
       "\t13 & 18.9 & 16.7 & 36.3 & 41.7 & 15.3 \\\\\n",
       "\t14 & 18.2 & 13.7 & 38.8 & 42.7 & 17.2 \\\\\n",
       "\t15 & 17.9 & 14.1 & 39.7 & 44.6 & 16.8 \\\\\n",
       "\t16 & 19.4 & 14.1 & 39.1 & 43.2 & 17.8 \\\\\n",
       "\t17 & 13.2 & 11.0 & 27.1 & 30.4 & 12.2 \\\\\n",
       "\t18 & 23.0 & 16.8 & 47.2 & 52.1 & 21.5 \\\\\n",
       "\t19 & 19.8 & 14.2 & 43.2 & 49.7 & 18.6 \\\\\n",
       "\t20 & 17.6 & 14.0 & 34.0 & 38.6 & 15.5 \\\\\n",
       "\t21 & 13.3 & 11.1 & 27.8 & 32.3 & 11.3 \\\\\n",
       "\t22 & 15.7 & 12.2 & 31.7 & 34.2 & 14.2 \\\\\n",
       "\t23 & 15.1 & 13.3 & 31.8 & 36.3 & 13.5 \\\\\n",
       "\t24 & 10.1 & 9.3 & 20.9 & 24.4 & 8.4 \\\\\n",
       "\t25 & 21.4 & 18.0 & 41.2 & 46.2 & 18.7 \\\\\n",
       "\t26 & 12.9 & 11.2 & 25.8 & 29.1 & 11.9 \\\\\n",
       "\t27 & 18.4 & 15.5 & 35.6 & 40.0 & 15.9 \\\\\n",
       "\t28 & 16.2 & 11.8 & 32.3 & 35.3 & 14.7 \\\\\n",
       "\t29 & 17.1 & 12.7 & 36.7 & 41.9 & 15.6 \\\\\n",
       "\t30 & 16.9 & 13.2 & 37.3 & 42.7 & 15.6 \\\\\n",
       "\t$\\dots$ & $\\dots$ & $\\dots$ & $\\dots$ & $\\dots$ & $\\dots$ \\\\\n",
       "\\end{tabular}\n"
      ],
      "text/plain": [
       "200×5 DataFrames.DataFrame\n",
       "│ Row │ FL      │ RW      │ CL      │ CW      │ BD      │\n",
       "│     │ \u001b[90mFloat64\u001b[39m │ \u001b[90mFloat64\u001b[39m │ \u001b[90mFloat64\u001b[39m │ \u001b[90mFloat64\u001b[39m │ \u001b[90mFloat64\u001b[39m │\n",
       "├─────┼─────────┼─────────┼─────────┼─────────┼─────────┤\n",
       "│ 1   │ 17.5    │ 12.0    │ 34.4    │ 37.3    │ 15.3    │\n",
       "│ 2   │ 17.2    │ 13.5    │ 37.6    │ 43.9    │ 16.1    │\n",
       "│ 3   │ 14.6    │ 11.3    │ 31.9    │ 36.4    │ 13.7    │\n",
       "│ 4   │ 12.8    │ 12.2    │ 27.9    │ 31.9    │ 11.5    │\n",
       "│ 5   │ 19.7    │ 15.3    │ 41.9    │ 48.5    │ 17.8    │\n",
       "│ 6   │ 15.7    │ 13.9    │ 33.6    │ 38.5    │ 14.1    │\n",
       "│ 7   │ 12.6    │ 10.0    │ 27.7    │ 31.7    │ 11.4    │\n",
       "│ 8   │ 20.6    │ 17.5    │ 41.5    │ 46.2    │ 19.2    │\n",
       "│ 9   │ 12.0    │ 10.7    │ 24.6    │ 28.9    │ 10.5    │\n",
       "│ 10  │ 7.2     │ 6.5     │ 14.7    │ 17.1    │ 6.1     │\n",
       "⋮\n",
       "│ 190 │ 15.3    │ 14.2    │ 32.6    │ 38.3    │ 13.8    │\n",
       "│ 191 │ 11.0    │ 9.8     │ 22.5    │ 25.7    │ 8.2     │\n",
       "│ 192 │ 13.7    │ 12.5    │ 28.6    │ 33.8    │ 11.9    │\n",
       "│ 193 │ 20.0    │ 16.7    │ 40.4    │ 45.1    │ 17.7    │\n",
       "│ 194 │ 15.4    │ 11.1    │ 30.2    │ 33.6    │ 13.5    │\n",
       "│ 195 │ 9.8     │ 8.9     │ 20.4    │ 23.9    │ 8.8     │\n",
       "│ 196 │ 17.5    │ 14.7    │ 33.3    │ 37.6    │ 14.6    │\n",
       "│ 197 │ 14.2    │ 11.3    │ 29.2    │ 32.2    │ 13.5    │\n",
       "│ 198 │ 19.7    │ 16.7    │ 39.9    │ 43.6    │ 18.2    │\n",
       "│ 199 │ 14.2    │ 10.7    │ 27.8    │ 30.9    │ 12.7    │\n",
       "│ 200 │ 18.8    │ 13.8    │ 39.2    │ 43.3    │ 17.9    │"
      ]
     },
     "execution_count": 9,
     "metadata": {},
     "output_type": "execute_result"
    }
   ],
   "source": [
    "task.X"
   ]
  },
  {
   "cell_type": "code",
   "execution_count": 10,
   "metadata": {},
   "outputs": [
    {
     "data": {
      "text/plain": [
       "200-element CategoricalArrays.CategoricalArray{String,1,UInt32}:\n",
       " \"O\"\n",
       " \"B\"\n",
       " \"B\"\n",
       " \"B\"\n",
       " \"B\"\n",
       " \"B\"\n",
       " \"B\"\n",
       " \"O\"\n",
       " \"B\"\n",
       " \"B\"\n",
       " \"B\"\n",
       " \"O\"\n",
       " \"O\"\n",
       " ⋮  \n",
       " \"O\"\n",
       " \"B\"\n",
       " \"B\"\n",
       " \"B\"\n",
       " \"O\"\n",
       " \"O\"\n",
       " \"B\"\n",
       " \"O\"\n",
       " \"O\"\n",
       " \"O\"\n",
       " \"O\"\n",
       " \"O\""
      ]
     },
     "execution_count": 10,
     "metadata": {},
     "output_type": "execute_result"
    }
   ],
   "source": [
    "task.y"
   ]
  },
  {
   "cell_type": "code",
   "execution_count": 11,
   "metadata": {},
   "outputs": [
    {
     "data": {
      "text/plain": [
       ":sp"
      ]
     },
     "execution_count": 11,
     "metadata": {},
     "output_type": "execute_result"
    }
   ],
   "source": [
    "task.target"
   ]
  },
  {
   "cell_type": "code",
   "execution_count": null,
   "metadata": {},
   "outputs": [],
   "source": []
  }
 ],
 "metadata": {
  "kernelspec": {
   "display_name": "Julia 1.0.4",
   "language": "julia",
   "name": "julia-1.0"
  },
  "language_info": {
   "file_extension": ".jl",
   "mimetype": "application/julia",
   "name": "julia",
   "version": "1.0.4"
  }
 },
 "nbformat": 4,
 "nbformat_minor": 2
}
